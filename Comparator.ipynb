{
 "cells": [
  {
   "cell_type": "code",
   "execution_count": 1,
   "metadata": {},
   "outputs": [
    {
     "name": "stdout",
     "output_type": "stream",
     "text": [
      "http://api.plos.org/search?q=title:DNA equals http://api.plos.org/search?q=title:DNA\n"
     ]
    }
   ],
   "source": [
    "#Assumptions\n",
    "# pick each url from file1 and compare it against all urls in file2. \n",
    "\n",
    "import os\n",
    "import requests\n",
    "\n",
    "# Making REST API call. In case of any exceptions like invalid url, timeout, api result not being json, we will return the result as null.\n",
    "def makeAPICall(url):\n",
    "    try:\n",
    "        response = requests.get(url)\n",
    "        json_result = response.json()\n",
    "    except:\n",
    "        json_result = null\n",
    "    return json_result\n",
    "\n",
    "\n",
    "# JsonResponse from different API could be in any order. Inorder to make the comparison easier, we will be ordering the json object.\n",
    "# Json is key-value pair where the value could either be dictionary or list. We should recursively order the values as well.\n",
    "def orderJson(json_obj):\n",
    "    if isinstance(json_obj, dict):\n",
    "        return sorted((k, orderJson(v)) for k, v in json_obj.items())\n",
    "    if isinstance(json_obj, list):\n",
    "        return sorted(orderJson(x) for x in json_obj)\n",
    "    else:\n",
    "        return json_obj\n",
    "    \n",
    "\n",
    "# Function to make APICall and store in cache.  \n",
    "# If the result is already present in cache, we will not make API Call, thus making the code efficient \n",
    "# While storing in cache, we will be ordering the json response so as to make comparison easier in future. \n",
    "def getAPIResponse(url, result_cache):\n",
    "    url = url.rstrip()\n",
    "    if url in result_cache: \n",
    "        return result_cache[url]\n",
    "    result = makeAPICall(url)\n",
    "    result_cache[url] = orderJson(result)\n",
    "    return result_cache[url] \n",
    "\n",
    "#creating dictionary for efficient storage of api response. This way we don't need to make api calls for the same url again. \n",
    "result_cache = {} \n",
    "    \n",
    "#iterate over each url from file1 and compare against each other in file2\n",
    "def main(file1_content, file2_content):\n",
    "    for url1 in file1_content:\n",
    "        response1 = getAPIResponse(url1, result_cache)\n",
    "        for url2 in file2_content:\n",
    "            response2 = getAPIResponse(url2, result_cache)\n",
    "            if response1 and response2 and response1 == response2:\n",
    "                print(url1, \"equals\", url2)\n",
    "            else:  \n",
    "                print(url1, \"not equals\", url2)\n",
    "                \n",
    "\n",
    "path = os.getcwd()\n",
    "file1_path = os.path.join(path, \"file1.txt\")\n",
    "file2_path = os.path.join(path, \"file2.txt\")\n",
    "\n",
    "#read file1's content\n",
    "try:\n",
    "    f1 = open(file1_path)\n",
    "    file1_content = f1.readlines()\n",
    "    f1.close()\n",
    "except:\n",
    "    print(file1_path, \"file doesn't exists\")\n",
    "\n",
    "#read file2's content\n",
    "try:\n",
    "    f2 = open(file2_path)\n",
    "    file2_content = f2.readlines()\n",
    "    f2.close()\n",
    "except:\n",
    "    print(file1_path, \"file doesn't exists\")\n",
    "    \n",
    "main(file1_content, file2_content)\n",
    "    "
   ]
  },
  {
   "cell_type": "code",
   "execution_count": null,
   "metadata": {},
   "outputs": [],
   "source": []
  }
 ],
 "metadata": {
  "kernelspec": {
   "display_name": "Python 3",
   "language": "python",
   "name": "python3"
  },
  "language_info": {
   "codemirror_mode": {
    "name": "ipython",
    "version": 3
   },
   "file_extension": ".py",
   "mimetype": "text/x-python",
   "name": "python",
   "nbconvert_exporter": "python",
   "pygments_lexer": "ipython3",
   "version": "3.8.5"
  }
 },
 "nbformat": 4,
 "nbformat_minor": 4
}
